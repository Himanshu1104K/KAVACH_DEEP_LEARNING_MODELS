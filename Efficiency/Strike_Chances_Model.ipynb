{
 "cells": [
  {
   "cell_type": "code",
   "execution_count": 1,
   "metadata": {},
   "outputs": [
    {
     "name": "stderr",
     "output_type": "stream",
     "text": [
      "2025-01-27 18:29:55.917285: I tensorflow/core/util/port.cc:153] oneDNN custom operations are on. You may see slightly different numerical results due to floating-point round-off errors from different computation orders. To turn them off, set the environment variable `TF_ENABLE_ONEDNN_OPTS=0`.\n",
      "2025-01-27 18:29:56.091955: E external/local_xla/xla/stream_executor/cuda/cuda_fft.cc:477] Unable to register cuFFT factory: Attempting to register factory for plugin cuFFT when one has already been registered\n",
      "WARNING: All log messages before absl::InitializeLog() is called are written to STDERR\n",
      "E0000 00:00:1738002596.167896    2527 cuda_dnn.cc:8310] Unable to register cuDNN factory: Attempting to register factory for plugin cuDNN when one has already been registered\n",
      "E0000 00:00:1738002596.188321    2527 cuda_blas.cc:1418] Unable to register cuBLAS factory: Attempting to register factory for plugin cuBLAS when one has already been registered\n",
      "2025-01-27 18:29:56.352796: I tensorflow/core/platform/cpu_feature_guard.cc:210] This TensorFlow binary is optimized to use available CPU instructions in performance-critical operations.\n",
      "To enable the following instructions: AVX2 AVX_VNNI FMA, in other operations, rebuild TensorFlow with the appropriate compiler flags.\n"
     ]
    }
   ],
   "source": [
    "import tensorflow as tf\n",
    "from tensorflow import keras\n",
    "from tensorflow.keras.models import Sequential\n",
    "from tensorflow.keras.layers import Dense, LSTM, Dropout, Flatten\n",
    "import pandas as pd\n",
    "import numpy as np"
   ]
  },
  {
   "cell_type": "code",
   "execution_count": 2,
   "metadata": {},
   "outputs": [],
   "source": [
    "# Load dataset\n",
    "df = pd.read_csv(\"balanced_soldier_data.csv\")"
   ]
  },
  {
   "cell_type": "code",
   "execution_count": 4,
   "metadata": {},
   "outputs": [
    {
     "data": {
      "text/html": [
       "<div>\n",
       "<style scoped>\n",
       "    .dataframe tbody tr th:only-of-type {\n",
       "        vertical-align: middle;\n",
       "    }\n",
       "\n",
       "    .dataframe tbody tr th {\n",
       "        vertical-align: top;\n",
       "    }\n",
       "\n",
       "    .dataframe thead th {\n",
       "        text-align: right;\n",
       "    }\n",
       "</style>\n",
       "<table border=\"1\" class=\"dataframe\">\n",
       "  <thead>\n",
       "    <tr style=\"text-align: right;\">\n",
       "      <th></th>\n",
       "      <th>Temperature</th>\n",
       "      <th>Moisture</th>\n",
       "      <th>Water_Content</th>\n",
       "      <th>SpO2</th>\n",
       "      <th>Fatigue</th>\n",
       "      <th>Drowsiness</th>\n",
       "      <th>Stress</th>\n",
       "      <th>Heart_Rate</th>\n",
       "      <th>Respiration_Rate</th>\n",
       "      <th>Systolic_BP</th>\n",
       "      <th>Diastolic_BP</th>\n",
       "      <th>Efficiency</th>\n",
       "    </tr>\n",
       "  </thead>\n",
       "  <tbody>\n",
       "    <tr>\n",
       "      <th>0</th>\n",
       "      <td>35.383229</td>\n",
       "      <td>65.701296</td>\n",
       "      <td>74.896995</td>\n",
       "      <td>96.144655</td>\n",
       "      <td>0.208223</td>\n",
       "      <td>0.078256</td>\n",
       "      <td>0.167958</td>\n",
       "      <td>66.431073</td>\n",
       "      <td>15.907304</td>\n",
       "      <td>119</td>\n",
       "      <td>78</td>\n",
       "      <td>0.726903</td>\n",
       "    </tr>\n",
       "    <tr>\n",
       "      <th>1</th>\n",
       "      <td>36.028752</td>\n",
       "      <td>69.182477</td>\n",
       "      <td>87.289935</td>\n",
       "      <td>99.285356</td>\n",
       "      <td>0.186550</td>\n",
       "      <td>0.138735</td>\n",
       "      <td>0.008335</td>\n",
       "      <td>82.207135</td>\n",
       "      <td>17.644151</td>\n",
       "      <td>113</td>\n",
       "      <td>76</td>\n",
       "      <td>0.775944</td>\n",
       "    </tr>\n",
       "    <tr>\n",
       "      <th>2</th>\n",
       "      <td>37.004390</td>\n",
       "      <td>38.142130</td>\n",
       "      <td>51.690862</td>\n",
       "      <td>88.401253</td>\n",
       "      <td>0.795877</td>\n",
       "      <td>0.860479</td>\n",
       "      <td>0.821897</td>\n",
       "      <td>115.268466</td>\n",
       "      <td>25.442539</td>\n",
       "      <td>137</td>\n",
       "      <td>88</td>\n",
       "      <td>0.216759</td>\n",
       "    </tr>\n",
       "    <tr>\n",
       "      <th>3</th>\n",
       "      <td>35.926560</td>\n",
       "      <td>56.353209</td>\n",
       "      <td>86.145719</td>\n",
       "      <td>97.281401</td>\n",
       "      <td>0.074097</td>\n",
       "      <td>0.278761</td>\n",
       "      <td>0.125591</td>\n",
       "      <td>86.724807</td>\n",
       "      <td>15.603473</td>\n",
       "      <td>117</td>\n",
       "      <td>70</td>\n",
       "      <td>0.719477</td>\n",
       "    </tr>\n",
       "    <tr>\n",
       "      <th>4</th>\n",
       "      <td>36.231738</td>\n",
       "      <td>46.817432</td>\n",
       "      <td>48.037744</td>\n",
       "      <td>89.566148</td>\n",
       "      <td>0.779676</td>\n",
       "      <td>0.624617</td>\n",
       "      <td>0.829127</td>\n",
       "      <td>118.251208</td>\n",
       "      <td>23.152386</td>\n",
       "      <td>135</td>\n",
       "      <td>85</td>\n",
       "      <td>0.247567</td>\n",
       "    </tr>\n",
       "  </tbody>\n",
       "</table>\n",
       "</div>"
      ],
      "text/plain": [
       "   Temperature   Moisture  Water_Content       SpO2   Fatigue  Drowsiness  \\\n",
       "0    35.383229  65.701296      74.896995  96.144655  0.208223    0.078256   \n",
       "1    36.028752  69.182477      87.289935  99.285356  0.186550    0.138735   \n",
       "2    37.004390  38.142130      51.690862  88.401253  0.795877    0.860479   \n",
       "3    35.926560  56.353209      86.145719  97.281401  0.074097    0.278761   \n",
       "4    36.231738  46.817432      48.037744  89.566148  0.779676    0.624617   \n",
       "\n",
       "     Stress  Heart_Rate  Respiration_Rate  Systolic_BP  Diastolic_BP  \\\n",
       "0  0.167958   66.431073         15.907304          119            78   \n",
       "1  0.008335   82.207135         17.644151          113            76   \n",
       "2  0.821897  115.268466         25.442539          137            88   \n",
       "3  0.125591   86.724807         15.603473          117            70   \n",
       "4  0.829127  118.251208         23.152386          135            85   \n",
       "\n",
       "   Efficiency  \n",
       "0    0.726903  \n",
       "1    0.775944  \n",
       "2    0.216759  \n",
       "3    0.719477  \n",
       "4    0.247567  "
      ]
     },
     "execution_count": 4,
     "metadata": {},
     "output_type": "execute_result"
    }
   ],
   "source": [
    "df.head()"
   ]
  },
  {
   "cell_type": "code",
   "execution_count": 9,
   "metadata": {},
   "outputs": [],
   "source": [
    "df[\"Squad Efficiency\"] = df.groupby(df.index // 10)[\"Efficiency\"].transform(\"mean\")"
   ]
  },
  {
   "cell_type": "code",
   "execution_count": 13,
   "metadata": {},
   "outputs": [],
   "source": [
    "# Select relevant features\n",
    "features = [\n",
    "    \"Temperature\",\n",
    "    \"Moisture\",\n",
    "    \"Water_Content\",\n",
    "    \"SpO2\",\n",
    "    \"Fatigue\",\n",
    "    \"Drowsiness\",\n",
    "    \"Stress\",\n",
    "    \"Heart_Rate\",\n",
    "    \"Respiration_Rate\",\n",
    "    \"Systolic_BP\",\n",
    "    \"Diastolic_BP\",\n",
    "    \"Squad Efficiency\",\n",
    "]\n",
    "target = \"Strike Success Probability\"  # This will be our label"
   ]
  },
  {
   "cell_type": "code",
   "execution_count": 14,
   "metadata": {},
   "outputs": [],
   "source": [
    "# Generate synthetic labels (for demonstration)\n",
    "df[target] = df[\"Squad Efficiency\"].apply(\n",
    "    lambda x: np.random.uniform(0, 1) if x > 0.6 else np.random.uniform(0, 0.5)\n",
    ")"
   ]
  },
  {
   "cell_type": "code",
   "execution_count": 15,
   "metadata": {},
   "outputs": [],
   "source": [
    "# Normalize the data\n",
    "from sklearn.preprocessing import MinMaxScaler\n",
    "\n",
    "scaler = MinMaxScaler()\n",
    "df[features] = scaler.fit_transform(df[features])"
   ]
  },
  {
   "cell_type": "code",
   "execution_count": 16,
   "metadata": {},
   "outputs": [],
   "source": [
    "X = df[features].values\n",
    "y = df[target].values"
   ]
  },
  {
   "cell_type": "code",
   "execution_count": 17,
   "metadata": {},
   "outputs": [],
   "source": [
    "# Reshape input for LSTM (Samples, Time Steps, Features)\n",
    "X = X.reshape((X.shape[0] // 10, 10, X.shape[1]))  # Grouping 10 soldiers per second\n",
    "y = y[::10]  # One label per second"
   ]
  },
  {
   "cell_type": "code",
   "execution_count": 18,
   "metadata": {},
   "outputs": [],
   "source": [
    "# Train-test split\n",
    "from sklearn.model_selection import train_test_split\n",
    "\n",
    "X_train, X_test, y_train, y_test = train_test_split(\n",
    "    X, y, test_size=0.2, random_state=42\n",
    ")"
   ]
  },
  {
   "cell_type": "code",
   "execution_count": 20,
   "metadata": {},
   "outputs": [],
   "source": [
    "def build_model():\n",
    "    # Build the Deep Learning Model\n",
    "    model = Sequential(\n",
    "        [\n",
    "            LSTM(64, return_sequences=True, input_shape=(10, len(features))),\n",
    "            Dropout(0.2),\n",
    "            LSTM(32, return_sequences=False),\n",
    "            Dropout(0.2),\n",
    "            Dense(16, activation=\"relu\"),\n",
    "            Dense(8, activation=\"relu\"),\n",
    "            Dense(1, activation=\"sigmoid\"),  # Output between 0 and 1\n",
    "        ]\n",
    "    )\n",
    "    return model"
   ]
  },
  {
   "cell_type": "code",
   "execution_count": 21,
   "metadata": {},
   "outputs": [
    {
     "name": "stderr",
     "output_type": "stream",
     "text": [
      "/root/miniconda3/envs/myenv/lib/python3.11/site-packages/keras/src/layers/rnn/rnn.py:200: UserWarning: Do not pass an `input_shape`/`input_dim` argument to a layer. When using Sequential models, prefer using an `Input(shape)` object as the first layer in the model instead.\n",
      "  super().__init__(**kwargs)\n"
     ]
    }
   ],
   "source": [
    "model = build_model()"
   ]
  },
  {
   "cell_type": "code",
   "execution_count": 22,
   "metadata": {},
   "outputs": [],
   "source": [
    "# Compile the model\n",
    "model.compile(\n",
    "    optimizer=keras.optimizers.Adam(learning_rate=0.001),\n",
    "    loss=\"binary_crossentropy\",\n",
    "    metrics=[\"accuracy\"],\n",
    ")"
   ]
  },
  {
   "cell_type": "code",
   "execution_count": 23,
   "metadata": {},
   "outputs": [
    {
     "name": "stdout",
     "output_type": "stream",
     "text": [
      "Epoch 1/50\n"
     ]
    },
    {
     "name": "stderr",
     "output_type": "stream",
     "text": [
      "I0000 00:00:1738003002.961305    3751 cuda_dnn.cc:529] Loaded cuDNN version 90300\n"
     ]
    },
    {
     "name": "stdout",
     "output_type": "stream",
     "text": [
      "\u001b[1m13/13\u001b[0m \u001b[32m━━━━━━━━━━━━━━━━━━━━\u001b[0m\u001b[37m\u001b[0m \u001b[1m4s\u001b[0m 88ms/step - accuracy: 0.0000e+00 - loss: 0.6735 - val_accuracy: 0.0000e+00 - val_loss: 0.5767\n",
      "Epoch 2/50\n",
      "\u001b[1m13/13\u001b[0m \u001b[32m━━━━━━━━━━━━━━━━━━━━\u001b[0m\u001b[37m\u001b[0m \u001b[1m1s\u001b[0m 52ms/step - accuracy: 0.0000e+00 - loss: 0.5802 - val_accuracy: 0.0000e+00 - val_loss: 0.5573\n",
      "Epoch 3/50\n",
      "\u001b[1m13/13\u001b[0m \u001b[32m━━━━━━━━━━━━━━━━━━━━\u001b[0m\u001b[37m\u001b[0m \u001b[1m1s\u001b[0m 77ms/step - accuracy: 0.0000e+00 - loss: 0.5731 - val_accuracy: 0.0000e+00 - val_loss: 0.5567\n",
      "Epoch 4/50\n",
      "\u001b[1m13/13\u001b[0m \u001b[32m━━━━━━━━━━━━━━━━━━━━\u001b[0m\u001b[37m\u001b[0m \u001b[1m1s\u001b[0m 67ms/step - accuracy: 0.0000e+00 - loss: 0.5774 - val_accuracy: 0.0000e+00 - val_loss: 0.5557\n",
      "Epoch 5/50\n",
      "\u001b[1m13/13\u001b[0m \u001b[32m━━━━━━━━━━━━━━━━━━━━\u001b[0m\u001b[37m\u001b[0m \u001b[1m1s\u001b[0m 67ms/step - accuracy: 0.0000e+00 - loss: 0.5665 - val_accuracy: 0.0000e+00 - val_loss: 0.5545\n",
      "Epoch 6/50\n",
      "\u001b[1m13/13\u001b[0m \u001b[32m━━━━━━━━━━━━━━━━━━━━\u001b[0m\u001b[37m\u001b[0m \u001b[1m1s\u001b[0m 78ms/step - accuracy: 0.0000e+00 - loss: 0.5642 - val_accuracy: 0.0000e+00 - val_loss: 0.5559\n",
      "Epoch 7/50\n",
      "\u001b[1m13/13\u001b[0m \u001b[32m━━━━━━━━━━━━━━━━━━━━\u001b[0m\u001b[37m\u001b[0m \u001b[1m1s\u001b[0m 69ms/step - accuracy: 0.0000e+00 - loss: 0.5707 - val_accuracy: 0.0000e+00 - val_loss: 0.5553\n",
      "Epoch 8/50\n",
      "\u001b[1m13/13\u001b[0m \u001b[32m━━━━━━━━━━━━━━━━━━━━\u001b[0m\u001b[37m\u001b[0m \u001b[1m1s\u001b[0m 80ms/step - accuracy: 0.0000e+00 - loss: 0.5799 - val_accuracy: 0.0000e+00 - val_loss: 0.5553\n",
      "Epoch 9/50\n",
      "\u001b[1m13/13\u001b[0m \u001b[32m━━━━━━━━━━━━━━━━━━━━\u001b[0m\u001b[37m\u001b[0m \u001b[1m1s\u001b[0m 74ms/step - accuracy: 0.0000e+00 - loss: 0.5655 - val_accuracy: 0.0000e+00 - val_loss: 0.5547\n",
      "Epoch 10/50\n",
      "\u001b[1m13/13\u001b[0m \u001b[32m━━━━━━━━━━━━━━━━━━━━\u001b[0m\u001b[37m\u001b[0m \u001b[1m1s\u001b[0m 77ms/step - accuracy: 0.0000e+00 - loss: 0.5723 - val_accuracy: 0.0000e+00 - val_loss: 0.5554\n",
      "Epoch 11/50\n",
      "\u001b[1m13/13\u001b[0m \u001b[32m━━━━━━━━━━━━━━━━━━━━\u001b[0m\u001b[37m\u001b[0m \u001b[1m1s\u001b[0m 71ms/step - accuracy: 0.0000e+00 - loss: 0.5818 - val_accuracy: 0.0000e+00 - val_loss: 0.5551\n",
      "Epoch 12/50\n",
      "\u001b[1m13/13\u001b[0m \u001b[32m━━━━━━━━━━━━━━━━━━━━\u001b[0m\u001b[37m\u001b[0m \u001b[1m1s\u001b[0m 70ms/step - accuracy: 0.0000e+00 - loss: 0.5720 - val_accuracy: 0.0000e+00 - val_loss: 0.5549\n",
      "Epoch 13/50\n",
      "\u001b[1m13/13\u001b[0m \u001b[32m━━━━━━━━━━━━━━━━━━━━\u001b[0m\u001b[37m\u001b[0m \u001b[1m1s\u001b[0m 72ms/step - accuracy: 0.0000e+00 - loss: 0.5656 - val_accuracy: 0.0000e+00 - val_loss: 0.5551\n",
      "Epoch 14/50\n",
      "\u001b[1m13/13\u001b[0m \u001b[32m━━━━━━━━━━━━━━━━━━━━\u001b[0m\u001b[37m\u001b[0m \u001b[1m1s\u001b[0m 73ms/step - accuracy: 0.0000e+00 - loss: 0.5681 - val_accuracy: 0.0000e+00 - val_loss: 0.5553\n",
      "Epoch 15/50\n",
      "\u001b[1m13/13\u001b[0m \u001b[32m━━━━━━━━━━━━━━━━━━━━\u001b[0m\u001b[37m\u001b[0m \u001b[1m1s\u001b[0m 77ms/step - accuracy: 0.0000e+00 - loss: 0.5703 - val_accuracy: 0.0000e+00 - val_loss: 0.5546\n",
      "Epoch 16/50\n",
      "\u001b[1m13/13\u001b[0m \u001b[32m━━━━━━━━━━━━━━━━━━━━\u001b[0m\u001b[37m\u001b[0m \u001b[1m1s\u001b[0m 75ms/step - accuracy: 0.0000e+00 - loss: 0.5807 - val_accuracy: 0.0000e+00 - val_loss: 0.5543\n",
      "Epoch 17/50\n",
      "\u001b[1m13/13\u001b[0m \u001b[32m━━━━━━━━━━━━━━━━━━━━\u001b[0m\u001b[37m\u001b[0m \u001b[1m1s\u001b[0m 77ms/step - accuracy: 0.0000e+00 - loss: 0.5702 - val_accuracy: 0.0000e+00 - val_loss: 0.5542\n",
      "Epoch 18/50\n",
      "\u001b[1m13/13\u001b[0m \u001b[32m━━━━━━━━━━━━━━━━━━━━\u001b[0m\u001b[37m\u001b[0m \u001b[1m1s\u001b[0m 86ms/step - accuracy: 0.0000e+00 - loss: 0.5811 - val_accuracy: 0.0000e+00 - val_loss: 0.5542\n",
      "Epoch 19/50\n",
      "\u001b[1m13/13\u001b[0m \u001b[32m━━━━━━━━━━━━━━━━━━━━\u001b[0m\u001b[37m\u001b[0m \u001b[1m1s\u001b[0m 69ms/step - accuracy: 0.0000e+00 - loss: 0.5545 - val_accuracy: 0.0000e+00 - val_loss: 0.5542\n",
      "Epoch 20/50\n",
      "\u001b[1m13/13\u001b[0m \u001b[32m━━━━━━━━━━━━━━━━━━━━\u001b[0m\u001b[37m\u001b[0m \u001b[1m1s\u001b[0m 71ms/step - accuracy: 0.0000e+00 - loss: 0.5670 - val_accuracy: 0.0000e+00 - val_loss: 0.5553\n",
      "Epoch 21/50\n",
      "\u001b[1m13/13\u001b[0m \u001b[32m━━━━━━━━━━━━━━━━━━━━\u001b[0m\u001b[37m\u001b[0m \u001b[1m1s\u001b[0m 52ms/step - accuracy: 0.0000e+00 - loss: 0.5675 - val_accuracy: 0.0000e+00 - val_loss: 0.5531\n",
      "Epoch 22/50\n",
      "\u001b[1m13/13\u001b[0m \u001b[32m━━━━━━━━━━━━━━━━━━━━\u001b[0m\u001b[37m\u001b[0m \u001b[1m1s\u001b[0m 54ms/step - accuracy: 0.0000e+00 - loss: 0.5685 - val_accuracy: 0.0000e+00 - val_loss: 0.5538\n",
      "Epoch 23/50\n",
      "\u001b[1m13/13\u001b[0m \u001b[32m━━━━━━━━━━━━━━━━━━━━\u001b[0m\u001b[37m\u001b[0m \u001b[1m1s\u001b[0m 50ms/step - accuracy: 0.0000e+00 - loss: 0.5612 - val_accuracy: 0.0000e+00 - val_loss: 0.5544\n",
      "Epoch 24/50\n",
      "\u001b[1m13/13\u001b[0m \u001b[32m━━━━━━━━━━━━━━━━━━━━\u001b[0m\u001b[37m\u001b[0m \u001b[1m1s\u001b[0m 52ms/step - accuracy: 0.0000e+00 - loss: 0.5519 - val_accuracy: 0.0000e+00 - val_loss: 0.5535\n",
      "Epoch 25/50\n",
      "\u001b[1m13/13\u001b[0m \u001b[32m━━━━━━━━━━━━━━━━━━━━\u001b[0m\u001b[37m\u001b[0m \u001b[1m1s\u001b[0m 53ms/step - accuracy: 0.0000e+00 - loss: 0.5613 - val_accuracy: 0.0000e+00 - val_loss: 0.5549\n",
      "Epoch 26/50\n",
      "\u001b[1m13/13\u001b[0m \u001b[32m━━━━━━━━━━━━━━━━━━━━\u001b[0m\u001b[37m\u001b[0m \u001b[1m1s\u001b[0m 50ms/step - accuracy: 0.0000e+00 - loss: 0.5638 - val_accuracy: 0.0000e+00 - val_loss: 0.5521\n",
      "Epoch 27/50\n",
      "\u001b[1m13/13\u001b[0m \u001b[32m━━━━━━━━━━━━━━━━━━━━\u001b[0m\u001b[37m\u001b[0m \u001b[1m0s\u001b[0m 2ms/step - accuracy: 0.0000e+00 - loss: 0.5702 - val_accuracy: 0.0000e+00 - val_loss: 0.5512\n",
      "Epoch 28/50\n",
      "\u001b[1m13/13\u001b[0m \u001b[32m━━━━━━━━━━━━━━━━━━━━\u001b[0m\u001b[37m\u001b[0m \u001b[1m1s\u001b[0m 52ms/step - accuracy: 0.0000e+00 - loss: 0.5669 - val_accuracy: 0.0000e+00 - val_loss: 0.5519\n",
      "Epoch 29/50\n",
      "\u001b[1m13/13\u001b[0m \u001b[32m━━━━━━━━━━━━━━━━━━━━\u001b[0m\u001b[37m\u001b[0m \u001b[1m1s\u001b[0m 50ms/step - accuracy: 0.0000e+00 - loss: 0.5730 - val_accuracy: 0.0000e+00 - val_loss: 0.5558\n",
      "Epoch 30/50\n",
      "\u001b[1m13/13\u001b[0m \u001b[32m━━━━━━━━━━━━━━━━━━━━\u001b[0m\u001b[37m\u001b[0m \u001b[1m1s\u001b[0m 53ms/step - accuracy: 0.0000e+00 - loss: 0.5691 - val_accuracy: 0.0000e+00 - val_loss: 0.5545\n",
      "Epoch 31/50\n",
      "\u001b[1m13/13\u001b[0m \u001b[32m━━━━━━━━━━━━━━━━━━━━\u001b[0m\u001b[37m\u001b[0m \u001b[1m1s\u001b[0m 49ms/step - accuracy: 0.0000e+00 - loss: 0.5653 - val_accuracy: 0.0000e+00 - val_loss: 0.5518\n",
      "Epoch 32/50\n",
      "\u001b[1m13/13\u001b[0m \u001b[32m━━━━━━━━━━━━━━━━━━━━\u001b[0m\u001b[37m\u001b[0m \u001b[1m1s\u001b[0m 51ms/step - accuracy: 0.0000e+00 - loss: 0.5660 - val_accuracy: 0.0000e+00 - val_loss: 0.5526\n",
      "Epoch 33/50\n",
      "\u001b[1m13/13\u001b[0m \u001b[32m━━━━━━━━━━━━━━━━━━━━\u001b[0m\u001b[37m\u001b[0m \u001b[1m1s\u001b[0m 53ms/step - accuracy: 0.0000e+00 - loss: 0.5621 - val_accuracy: 0.0000e+00 - val_loss: 0.5509\n",
      "Epoch 34/50\n",
      "\u001b[1m13/13\u001b[0m \u001b[32m━━━━━━━━━━━━━━━━━━━━\u001b[0m\u001b[37m\u001b[0m \u001b[1m1s\u001b[0m 48ms/step - accuracy: 0.0000e+00 - loss: 0.5834 - val_accuracy: 0.0000e+00 - val_loss: 0.5533\n",
      "Epoch 35/50\n",
      "\u001b[1m13/13\u001b[0m \u001b[32m━━━━━━━━━━━━━━━━━━━━\u001b[0m\u001b[37m\u001b[0m \u001b[1m1s\u001b[0m 53ms/step - accuracy: 0.0000e+00 - loss: 0.5633 - val_accuracy: 0.0000e+00 - val_loss: 0.5502\n",
      "Epoch 36/50\n",
      "\u001b[1m13/13\u001b[0m \u001b[32m━━━━━━━━━━━━━━━━━━━━\u001b[0m\u001b[37m\u001b[0m \u001b[1m1s\u001b[0m 55ms/step - accuracy: 0.0000e+00 - loss: 0.5689 - val_accuracy: 0.0000e+00 - val_loss: 0.5505\n",
      "Epoch 37/50\n",
      "\u001b[1m13/13\u001b[0m \u001b[32m━━━━━━━━━━━━━━━━━━━━\u001b[0m\u001b[37m\u001b[0m \u001b[1m1s\u001b[0m 50ms/step - accuracy: 0.0000e+00 - loss: 0.5479 - val_accuracy: 0.0000e+00 - val_loss: 0.5491\n",
      "Epoch 38/50\n",
      "\u001b[1m13/13\u001b[0m \u001b[32m━━━━━━━━━━━━━━━━━━━━\u001b[0m\u001b[37m\u001b[0m \u001b[1m1s\u001b[0m 51ms/step - accuracy: 0.0000e+00 - loss: 0.5685 - val_accuracy: 0.0000e+00 - val_loss: 0.5517\n",
      "Epoch 39/50\n",
      "\u001b[1m13/13\u001b[0m \u001b[32m━━━━━━━━━━━━━━━━━━━━\u001b[0m\u001b[37m\u001b[0m \u001b[1m1s\u001b[0m 50ms/step - accuracy: 0.0000e+00 - loss: 0.5768 - val_accuracy: 0.0000e+00 - val_loss: 0.5529\n",
      "Epoch 40/50\n",
      "\u001b[1m13/13\u001b[0m \u001b[32m━━━━━━━━━━━━━━━━━━━━\u001b[0m\u001b[37m\u001b[0m \u001b[1m1s\u001b[0m 50ms/step - accuracy: 0.0000e+00 - loss: 0.5600 - val_accuracy: 0.0000e+00 - val_loss: 0.5514\n",
      "Epoch 41/50\n",
      "\u001b[1m13/13\u001b[0m \u001b[32m━━━━━━━━━━━━━━━━━━━━\u001b[0m\u001b[37m\u001b[0m \u001b[1m1s\u001b[0m 57ms/step - accuracy: 0.0000e+00 - loss: 0.5551 - val_accuracy: 0.0000e+00 - val_loss: 0.5523\n",
      "Epoch 42/50\n",
      "\u001b[1m13/13\u001b[0m \u001b[32m━━━━━━━━━━━━━━━━━━━━\u001b[0m\u001b[37m\u001b[0m \u001b[1m1s\u001b[0m 49ms/step - accuracy: 0.0000e+00 - loss: 0.5691 - val_accuracy: 0.0000e+00 - val_loss: 0.5518\n",
      "Epoch 43/50\n",
      "\u001b[1m13/13\u001b[0m \u001b[32m━━━━━━━━━━━━━━━━━━━━\u001b[0m\u001b[37m\u001b[0m \u001b[1m1s\u001b[0m 53ms/step - accuracy: 0.0000e+00 - loss: 0.5585 - val_accuracy: 0.0000e+00 - val_loss: 0.5481\n",
      "Epoch 44/50\n",
      "\u001b[1m13/13\u001b[0m \u001b[32m━━━━━━━━━━━━━━━━━━━━\u001b[0m\u001b[37m\u001b[0m \u001b[1m1s\u001b[0m 54ms/step - accuracy: 0.0000e+00 - loss: 0.5682 - val_accuracy: 0.0000e+00 - val_loss: 0.5493\n",
      "Epoch 45/50\n",
      "\u001b[1m13/13\u001b[0m \u001b[32m━━━━━━━━━━━━━━━━━━━━\u001b[0m\u001b[37m\u001b[0m \u001b[1m1s\u001b[0m 46ms/step - accuracy: 0.0000e+00 - loss: 0.5663 - val_accuracy: 0.0000e+00 - val_loss: 0.5495\n",
      "Epoch 46/50\n",
      "\u001b[1m13/13\u001b[0m \u001b[32m━━━━━━━━━━━━━━━━━━━━\u001b[0m\u001b[37m\u001b[0m \u001b[1m1s\u001b[0m 48ms/step - accuracy: 0.0000e+00 - loss: 0.5676 - val_accuracy: 0.0000e+00 - val_loss: 0.5512\n",
      "Epoch 47/50\n",
      "\u001b[1m13/13\u001b[0m \u001b[32m━━━━━━━━━━━━━━━━━━━━\u001b[0m\u001b[37m\u001b[0m \u001b[1m1s\u001b[0m 46ms/step - accuracy: 0.0000e+00 - loss: 0.5661 - val_accuracy: 0.0000e+00 - val_loss: 0.5486\n",
      "Epoch 48/50\n",
      "\u001b[1m13/13\u001b[0m \u001b[32m━━━━━━━━━━━━━━━━━━━━\u001b[0m\u001b[37m\u001b[0m \u001b[1m1s\u001b[0m 49ms/step - accuracy: 0.0000e+00 - loss: 0.5755 - val_accuracy: 0.0000e+00 - val_loss: 0.5478\n",
      "Epoch 49/50\n",
      "\u001b[1m13/13\u001b[0m \u001b[32m━━━━━━━━━━━━━━━━━━━━\u001b[0m\u001b[37m\u001b[0m \u001b[1m1s\u001b[0m 53ms/step - accuracy: 0.0000e+00 - loss: 0.5571 - val_accuracy: 0.0000e+00 - val_loss: 0.5506\n",
      "Epoch 50/50\n",
      "\u001b[1m13/13\u001b[0m \u001b[32m━━━━━━━━━━━━━━━━━━━━\u001b[0m\u001b[37m\u001b[0m \u001b[1m1s\u001b[0m 53ms/step - accuracy: 0.0000e+00 - loss: 0.5602 - val_accuracy: 0.0000e+00 - val_loss: 0.5524\n"
     ]
    }
   ],
   "source": [
    "# Train the model\n",
    "history = model.fit(\n",
    "    X_train, y_train, epochs=50, batch_size=32, validation_data=(X_test, y_test)\n",
    ")"
   ]
  },
  {
   "cell_type": "code",
   "execution_count": 24,
   "metadata": {},
   "outputs": [],
   "source": [
    "# Save the model\n",
    "model.save(\"TrainedModel/surgical_strike_success_model.keras\")"
   ]
  },
  {
   "cell_type": "code",
   "execution_count": 25,
   "metadata": {},
   "outputs": [
    {
     "name": "stdout",
     "output_type": "stream",
     "text": [
      "\u001b[1m1/1\u001b[0m \u001b[32m━━━━━━━━━━━━━━━━━━━━\u001b[0m\u001b[37m\u001b[0m \u001b[1m0s\u001b[0m 154ms/step\n",
      "Predicted Success Chances: [[0.26711515]\n",
      " [0.27600867]\n",
      " [0.26933897]\n",
      " [0.26997417]\n",
      " [0.2754047 ]]\n"
     ]
    }
   ],
   "source": [
    "# Test the model\n",
    "test_prediction = model.predict(X_test[:5])\n",
    "print(\"Predicted Success Chances:\", test_prediction)"
   ]
  },
  {
   "cell_type": "code",
   "execution_count": 26,
   "metadata": {},
   "outputs": [
    {
     "name": "stdout",
     "output_type": "stream",
     "text": [
      "Scaler saved successfully.\n"
     ]
    }
   ],
   "source": [
    "import joblib\n",
    "\n",
    "# Save the fitted scaler\n",
    "joblib.dump(scaler, \"TrainedModel/surgicalScaler.pkl\")\n",
    "print(\"Scaler saved successfully.\")"
   ]
  },
  {
   "cell_type": "code",
   "execution_count": null,
   "metadata": {},
   "outputs": [],
   "source": []
  }
 ],
 "metadata": {
  "kernelspec": {
   "display_name": "myenv",
   "language": "python",
   "name": "python3"
  },
  "language_info": {
   "codemirror_mode": {
    "name": "ipython",
    "version": 3
   },
   "file_extension": ".py",
   "mimetype": "text/x-python",
   "name": "python",
   "nbconvert_exporter": "python",
   "pygments_lexer": "ipython3",
   "version": "3.11.8"
  }
 },
 "nbformat": 4,
 "nbformat_minor": 2
}
