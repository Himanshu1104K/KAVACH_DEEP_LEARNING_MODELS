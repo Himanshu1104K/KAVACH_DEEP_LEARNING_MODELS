{
 "cells": [
  {
   "cell_type": "code",
   "execution_count": 107,
   "metadata": {},
   "outputs": [],
   "source": [
    "import tensorflow as tf\n",
    "from tensorflow.keras import regularizers, layers\n",
    "from tensorflow.keras.models import Sequential\n",
    "from tensorflow.keras.optimizers import Adam\n",
    "from sklearn.model_selection import train_test_split\n",
    "from sklearn.preprocessing import StandardScaler\n",
    "import pandas as pd\n",
    "import numpy as np"
   ]
  },
  {
   "cell_type": "code",
   "execution_count": 108,
   "metadata": {},
   "outputs": [],
   "source": [
    "gpu_devices = tf.config.experimental.list_physical_devices(\"GPU\")\n",
    "for device in gpu_devices:\n",
    "    tf.config.experimental.set_memory_growth(device, True)"
   ]
  },
  {
   "cell_type": "code",
   "execution_count": 109,
   "metadata": {},
   "outputs": [],
   "source": [
    "# %% Load Data\n",
    "data = pd.read_csv(\"balanced_soldier_data.csv\")"
   ]
  },
  {
   "cell_type": "code",
   "execution_count": 110,
   "metadata": {},
   "outputs": [
    {
     "name": "stdout",
     "output_type": "stream",
     "text": [
      "<class 'pandas.core.frame.DataFrame'>\n",
      "RangeIndex: 5100 entries, 0 to 5099\n",
      "Data columns (total 12 columns):\n",
      " #   Column            Non-Null Count  Dtype  \n",
      "---  ------            --------------  -----  \n",
      " 0   Temperature       5100 non-null   float64\n",
      " 1   Moisture          5100 non-null   float64\n",
      " 2   Water_Content     5100 non-null   float64\n",
      " 3   SpO2              5100 non-null   float64\n",
      " 4   Fatigue           5100 non-null   float64\n",
      " 5   Drowsiness        5100 non-null   float64\n",
      " 6   Stress            5100 non-null   float64\n",
      " 7   Heart_Rate        5100 non-null   float64\n",
      " 8   Respiration_Rate  5100 non-null   float64\n",
      " 9   Systolic_BP       5100 non-null   int64  \n",
      " 10  Diastolic_BP      5100 non-null   int64  \n",
      " 11  Efficiency        5100 non-null   float64\n",
      "dtypes: float64(10), int64(2)\n",
      "memory usage: 478.3 KB\n",
      "None\n",
      "       Temperature     Moisture  Water_Content         SpO2      Fatigue  \\\n",
      "count  5100.000000  5100.000000    5100.000000  5100.000000  5100.000000   \n",
      "mean     36.824245    49.948598      64.991819    92.859258     0.499050   \n",
      "std       0.934099    10.009224      14.101622     4.546201     0.298965   \n",
      "min      35.000821    30.000233      40.000614    85.007142     0.000028   \n",
      "25%      36.164451    42.517555      53.111243    88.772447     0.228199   \n",
      "50%      36.740552    49.930312      64.844995    93.098638     0.498608   \n",
      "75%      37.496321    57.618619      77.085730    96.984919     0.770033   \n",
      "max      38.999084    69.950300      89.988570    99.995938     0.999671   \n",
      "\n",
      "        Drowsiness       Stress   Heart_Rate  Respiration_Rate  Systolic_BP  \\\n",
      "count  5100.000000  5100.000000  5100.000000       5100.000000  5100.000000   \n",
      "mean      0.484388     0.501219    98.334870         20.473373   123.654314   \n",
      "std       0.284795     0.302218    22.242554          4.520458     9.026725   \n",
      "min       0.000382     0.000367    60.021824         12.002567   110.000000   \n",
      "25%       0.227506     0.223470    81.277553         16.986269   116.000000   \n",
      "50%       0.510264     0.500100    95.260068         20.228664   122.000000   \n",
      "75%       0.701917     0.777690   117.115688         23.827589   132.000000   \n",
      "max       0.999802     0.999902   139.965345         29.998051   139.000000   \n",
      "\n",
      "       Diastolic_BP   Efficiency  \n",
      "count   5100.000000  5100.000000  \n",
      "mean      80.334706     0.461373  \n",
      "std        5.695166     0.228141  \n",
      "min       70.000000     0.100000  \n",
      "25%       76.000000     0.217893  \n",
      "50%       80.000000     0.445245  \n",
      "75%       86.000000     0.713280  \n",
      "max       89.000000     0.900000  \n"
     ]
    }
   ],
   "source": [
    "print(data.info())  # Check for NaNs and types\n",
    "print(data.describe())  # Feature distributions"
   ]
  },
  {
   "cell_type": "code",
   "execution_count": 111,
   "metadata": {},
   "outputs": [],
   "source": [
    "X = data.drop(columns=[\"Efficiency\"])\n",
    "y = data[\"Efficiency\"]"
   ]
  },
  {
   "cell_type": "code",
   "execution_count": 112,
   "metadata": {},
   "outputs": [],
   "source": [
    "scaler = StandardScaler()\n",
    "X_scaled = scaler.fit_transform(X)"
   ]
  },
  {
   "cell_type": "code",
   "execution_count": 113,
   "metadata": {},
   "outputs": [],
   "source": [
    "# Split into train/test sets\n",
    "X_train, X_test, y_train, y_test = train_test_split(\n",
    "    X, y, test_size=0.2, random_state=42\n",
    ")"
   ]
  },
  {
   "cell_type": "code",
   "execution_count": 114,
   "metadata": {},
   "outputs": [],
   "source": [
    "# %% Build Model\n",
    "def build_model(input_shape):\n",
    "    model = Sequential(\n",
    "        [\n",
    "            layers.Input(shape=(input_shape,)),\n",
    "            layers.Dense(\n",
    "                128, activation=\"relu\", kernel_regularizer=regularizers.l2(0.01)\n",
    "            ),\n",
    "            layers.BatchNormalization(),\n",
    "            layers.Dropout(0.2),\n",
    "            layers.Dense(\n",
    "                256, activation=\"relu\", kernel_regularizer=regularizers.l2(0.01)\n",
    "            ),\n",
    "            layers.BatchNormalization(),\n",
    "            layers.Dropout(0.3),\n",
    "            layers.Dense(128, activation=\"relu\"),\n",
    "            layers.Dense(64, activation=\"relu\"),\n",
    "            layers.Dense(32, activation=\"relu\"),\n",
    "            layers.Dense(1, activation=\"linear\"),\n",
    "        ]\n",
    "    )\n",
    "    return model"
   ]
  },
  {
   "cell_type": "code",
   "execution_count": 115,
   "metadata": {},
   "outputs": [],
   "source": [
    "model = build_model(X_train.shape[1])"
   ]
  },
  {
   "cell_type": "code",
   "execution_count": 116,
   "metadata": {},
   "outputs": [],
   "source": [
    "# Compile model\n",
    "optimizer = Adam(learning_rate=0.001)\n",
    "model.compile(optimizer=optimizer, loss=\"mean_squared_error\", metrics=[\"mae\"])"
   ]
  },
  {
   "cell_type": "code",
   "execution_count": 117,
   "metadata": {},
   "outputs": [
    {
     "name": "stdout",
     "output_type": "stream",
     "text": [
      "Epoch 1/100\n",
      "\u001b[1m128/128\u001b[0m \u001b[32m━━━━━━━━━━━━━━━━━━━━\u001b[0m\u001b[37m\u001b[0m \u001b[1m5s\u001b[0m 21ms/step - loss: 1.5886 - mae: 0.2547 - val_loss: 0.7780 - val_mae: 0.2399\n",
      "Epoch 2/100\n",
      "\u001b[1m128/128\u001b[0m \u001b[32m━━━━━━━━━━━━━━━━━━━━\u001b[0m\u001b[37m\u001b[0m \u001b[1m1s\u001b[0m 9ms/step - loss: 0.6070 - mae: 0.1025 - val_loss: 0.3650 - val_mae: 0.1531\n",
      "Epoch 3/100\n",
      "\u001b[1m128/128\u001b[0m \u001b[32m━━━━━━━━━━━━━━━━━━━━\u001b[0m\u001b[37m\u001b[0m \u001b[1m1s\u001b[0m 7ms/step - loss: 0.2854 - mae: 0.0812 - val_loss: 0.1623 - val_mae: 0.0853\n",
      "Epoch 4/100\n",
      "\u001b[1m128/128\u001b[0m \u001b[32m━━━━━━━━━━━━━━━━━━━━\u001b[0m\u001b[37m\u001b[0m \u001b[1m1s\u001b[0m 7ms/step - loss: 0.1380 - mae: 0.0751 - val_loss: 0.0995 - val_mae: 0.1407\n",
      "Epoch 5/100\n",
      "\u001b[1m128/128\u001b[0m \u001b[32m━━━━━━━━━━━━━━━━━━━━\u001b[0m\u001b[37m\u001b[0m \u001b[1m1s\u001b[0m 6ms/step - loss: 0.0708 - mae: 0.0566 - val_loss: 0.0589 - val_mae: 0.1114\n",
      "Epoch 6/100\n",
      "\u001b[1m128/128\u001b[0m \u001b[32m━━━━━━━━━━━━━━━━━━━━\u001b[0m\u001b[37m\u001b[0m \u001b[1m1s\u001b[0m 8ms/step - loss: 0.0449 - mae: 0.0614 - val_loss: 0.0538 - val_mae: 0.1215\n",
      "Epoch 7/100\n",
      "\u001b[1m128/128\u001b[0m \u001b[32m━━━━━━━━━━━━━━━━━━━━\u001b[0m\u001b[37m\u001b[0m \u001b[1m1s\u001b[0m 7ms/step - loss: 0.0340 - mae: 0.0617 - val_loss: 0.0297 - val_mae: 0.0719\n",
      "Epoch 8/100\n",
      "\u001b[1m128/128\u001b[0m \u001b[32m━━━━━━━━━━━━━━━━━━━━\u001b[0m\u001b[37m\u001b[0m \u001b[1m1s\u001b[0m 7ms/step - loss: 0.0256 - mae: 0.0524 - val_loss: 0.0362 - val_mae: 0.1064\n",
      "Epoch 9/100\n",
      "\u001b[1m128/128\u001b[0m \u001b[32m━━━━━━━━━━━━━━━━━━━━\u001b[0m\u001b[37m\u001b[0m \u001b[1m1s\u001b[0m 9ms/step - loss: 0.0223 - mae: 0.0556 - val_loss: 0.0347 - val_mae: 0.1200\n",
      "Epoch 10/100\n",
      "\u001b[1m128/128\u001b[0m \u001b[32m━━━━━━━━━━━━━━━━━━━━\u001b[0m\u001b[37m\u001b[0m \u001b[1m0s\u001b[0m 3ms/step - loss: 0.0182 - mae: 0.0495 - val_loss: 0.0499 - val_mae: 0.1405\n",
      "Epoch 11/100\n",
      "\u001b[1m128/128\u001b[0m \u001b[32m━━━━━━━━━━━━━━━━━━━━\u001b[0m\u001b[37m\u001b[0m \u001b[1m1s\u001b[0m 8ms/step - loss: 0.0168 - mae: 0.0482 - val_loss: 0.0399 - val_mae: 0.1509\n",
      "Epoch 12/100\n",
      "\u001b[1m128/128\u001b[0m \u001b[32m━━━━━━━━━━━━━━━━━━━━\u001b[0m\u001b[37m\u001b[0m \u001b[1m1s\u001b[0m 8ms/step - loss: 0.0147 - mae: 0.0456 - val_loss: 0.0338 - val_mae: 0.1379\n",
      "Epoch 13/100\n",
      "\u001b[1m128/128\u001b[0m \u001b[32m━━━━━━━━━━━━━━━━━━━━\u001b[0m\u001b[37m\u001b[0m \u001b[1m1s\u001b[0m 9ms/step - loss: 0.0123 - mae: 0.0438 - val_loss: 0.0203 - val_mae: 0.0890\n",
      "Epoch 14/100\n",
      "\u001b[1m128/128\u001b[0m \u001b[32m━━━━━━━━━━━━━━━━━━━━\u001b[0m\u001b[37m\u001b[0m \u001b[1m1s\u001b[0m 9ms/step - loss: 0.0120 - mae: 0.0455 - val_loss: 0.0158 - val_mae: 0.0741\n",
      "Epoch 15/100\n",
      "\u001b[1m128/128\u001b[0m \u001b[32m━━━━━━━━━━━━━━━━━━━━\u001b[0m\u001b[37m\u001b[0m \u001b[1m1s\u001b[0m 9ms/step - loss: 0.0098 - mae: 0.0417 - val_loss: 0.1092 - val_mae: 0.2615\n",
      "Epoch 16/100\n",
      "\u001b[1m128/128\u001b[0m \u001b[32m━━━━━━━━━━━━━━━━━━━━\u001b[0m\u001b[37m\u001b[0m \u001b[1m1s\u001b[0m 9ms/step - loss: 0.0090 - mae: 0.0417 - val_loss: 0.0219 - val_mae: 0.1029\n",
      "Epoch 17/100\n",
      "\u001b[1m128/128\u001b[0m \u001b[32m━━━━━━━━━━━━━━━━━━━━\u001b[0m\u001b[37m\u001b[0m \u001b[1m1s\u001b[0m 10ms/step - loss: 0.0088 - mae: 0.0422 - val_loss: 0.0234 - val_mae: 0.1150\n",
      "Epoch 18/100\n",
      "\u001b[1m128/128\u001b[0m \u001b[32m━━━━━━━━━━━━━━━━━━━━\u001b[0m\u001b[37m\u001b[0m \u001b[1m1s\u001b[0m 9ms/step - loss: 0.0089 - mae: 0.0444 - val_loss: 0.1048 - val_mae: 0.3079\n",
      "Epoch 19/100\n",
      "\u001b[1m128/128\u001b[0m \u001b[32m━━━━━━━━━━━━━━━━━━━━\u001b[0m\u001b[37m\u001b[0m \u001b[1m1s\u001b[0m 8ms/step - loss: 0.0071 - mae: 0.0396 - val_loss: 0.0241 - val_mae: 0.1072\n",
      "Epoch 20/100\n",
      "\u001b[1m128/128\u001b[0m \u001b[32m━━━━━━━━━━━━━━━━━━━━\u001b[0m\u001b[37m\u001b[0m \u001b[1m1s\u001b[0m 8ms/step - loss: 0.0074 - mae: 0.0420 - val_loss: 0.0141 - val_mae: 0.0845\n",
      "Epoch 21/100\n",
      "\u001b[1m128/128\u001b[0m \u001b[32m━━━━━━━━━━━━━━━━━━━━\u001b[0m\u001b[37m\u001b[0m \u001b[1m1s\u001b[0m 7ms/step - loss: 0.0075 - mae: 0.0439 - val_loss: 0.0050 - val_mae: 0.0319\n",
      "Epoch 22/100\n",
      "\u001b[1m128/128\u001b[0m \u001b[32m━━━━━━━━━━━━━━━━━━━━\u001b[0m\u001b[37m\u001b[0m \u001b[1m1s\u001b[0m 8ms/step - loss: 0.0070 - mae: 0.0436 - val_loss: 0.0226 - val_mae: 0.1171\n",
      "Epoch 23/100\n",
      "\u001b[1m128/128\u001b[0m \u001b[32m━━━━━━━━━━━━━━━━━━━━\u001b[0m\u001b[37m\u001b[0m \u001b[1m1s\u001b[0m 10ms/step - loss: 0.0074 - mae: 0.0465 - val_loss: 0.0351 - val_mae: 0.1632\n",
      "Epoch 24/100\n",
      "\u001b[1m128/128\u001b[0m \u001b[32m━━━━━━━━━━━━━━━━━━━━\u001b[0m\u001b[37m\u001b[0m \u001b[1m1s\u001b[0m 9ms/step - loss: 0.0056 - mae: 0.0400 - val_loss: 0.0227 - val_mae: 0.1088\n",
      "Epoch 25/100\n",
      "\u001b[1m128/128\u001b[0m \u001b[32m━━━━━━━━━━━━━━━━━━━━\u001b[0m\u001b[37m\u001b[0m \u001b[1m1s\u001b[0m 6ms/step - loss: 0.0053 - mae: 0.0403 - val_loss: 0.0163 - val_mae: 0.0808\n",
      "Epoch 26/100\n",
      "\u001b[1m128/128\u001b[0m \u001b[32m━━━━━━━━━━━━━━━━━━━━\u001b[0m\u001b[37m\u001b[0m \u001b[1m1s\u001b[0m 7ms/step - loss: 0.0046 - mae: 0.0375 - val_loss: 0.0723 - val_mae: 0.2090\n",
      "Epoch 27/100\n",
      "\u001b[1m128/128\u001b[0m \u001b[32m━━━━━━━━━━━━━━━━━━━━\u001b[0m\u001b[37m\u001b[0m \u001b[1m1s\u001b[0m 7ms/step - loss: 0.0053 - mae: 0.0400 - val_loss: 0.0182 - val_mae: 0.0881\n",
      "Epoch 28/100\n",
      "\u001b[1m128/128\u001b[0m \u001b[32m━━━━━━━━━━━━━━━━━━━━\u001b[0m\u001b[37m\u001b[0m \u001b[1m1s\u001b[0m 7ms/step - loss: 0.0056 - mae: 0.0420 - val_loss: 0.0093 - val_mae: 0.0601\n",
      "Epoch 29/100\n",
      "\u001b[1m128/128\u001b[0m \u001b[32m━━━━━━━━━━━━━━━━━━━━\u001b[0m\u001b[37m\u001b[0m \u001b[1m1s\u001b[0m 8ms/step - loss: 0.0047 - mae: 0.0382 - val_loss: 0.0388 - val_mae: 0.1649\n",
      "Epoch 30/100\n",
      "\u001b[1m128/128\u001b[0m \u001b[32m━━━━━━━━━━━━━━━━━━━━\u001b[0m\u001b[37m\u001b[0m \u001b[1m1s\u001b[0m 8ms/step - loss: 0.0051 - mae: 0.0394 - val_loss: 0.0629 - val_mae: 0.2087\n",
      "Epoch 31/100\n",
      "\u001b[1m128/128\u001b[0m \u001b[32m━━━━━━━━━━━━━━━━━━━━\u001b[0m\u001b[37m\u001b[0m \u001b[1m1s\u001b[0m 8ms/step - loss: 0.0046 - mae: 0.0390 - val_loss: 0.0996 - val_mae: 0.2602\n"
     ]
    }
   ],
   "source": [
    "# %% Train Model (Uncomment this to train)\n",
    "history = model.fit(\n",
    "    X_train,\n",
    "    y_train,\n",
    "    epochs=100,\n",
    "    batch_size=32,\n",
    "    validation_data=(X_test, y_test),\n",
    "    callbacks=[\n",
    "        tf.keras.callbacks.EarlyStopping(\n",
    "            monitor=\"val_loss\", patience=10, restore_best_weights=True\n",
    "        )\n",
    "    ],\n",
    ")"
   ]
  },
  {
   "cell_type": "code",
   "execution_count": 118,
   "metadata": {},
   "outputs": [
    {
     "name": "stdout",
     "output_type": "stream",
     "text": [
      "\u001b[1m32/32\u001b[0m \u001b[32m━━━━━━━━━━━━━━━━━━━━\u001b[0m\u001b[37m\u001b[0m \u001b[1m0s\u001b[0m 4ms/step - loss: 0.0050 - mae: 0.0312\n",
      "Test Loss: 0.0050, Test MAE: 0.0319\n"
     ]
    }
   ],
   "source": [
    "# %% Evaluate Model\n",
    "test_loss, test_mae = model.evaluate(X_test, y_test)\n",
    "print(f\"Test Loss: {test_loss:.4f}, Test MAE: {test_mae:.4f}\")"
   ]
  },
  {
   "cell_type": "code",
   "execution_count": 119,
   "metadata": {},
   "outputs": [],
   "source": [
    "# # %% Anomaly Detection\n",
    "# def predict_anomaly(model, scaler, sample_input):\n",
    "#     efficiency_score = model.predict(sample_input).flatten()[0]\n",
    "\n",
    "#     print(f\"Predicted Efficiency Score: {efficiency_score:.2f}\")\n",
    "#     if efficiency_score <= 0.3:\n",
    "#         print(\"🚨 ALERT: Soldier in danger! Triggering rescue signal! 🚨\")\n",
    "#     else:\n",
    "#         print(\"✅ Soldier efficiency is normal.\")"
   ]
  },
  {
   "cell_type": "code",
   "execution_count": 120,
   "metadata": {},
   "outputs": [],
   "source": [
    "# %% Save Model\n",
    "model.save(\"TrainedModel/SHMS_Efficiency_Model.keras\")"
   ]
  },
  {
   "cell_type": "code",
   "execution_count": 121,
   "metadata": {},
   "outputs": [
    {
     "name": "stdout",
     "output_type": "stream",
     "text": [
      "Scaler saved successfully.\n"
     ]
    }
   ],
   "source": [
    "import joblib\n",
    "\n",
    "# Save the fitted scaler\n",
    "joblib.dump(scaler, \"TrainedModel/scaler.pkl\")\n",
    "print(\"Scaler saved successfully.\")"
   ]
  },
  {
   "cell_type": "code",
   "execution_count": 122,
   "metadata": {},
   "outputs": [],
   "source": [
    "msg = {\n",
    "    \"Timestamp\": [\n",
    "        \"2025-01-26 15:36:19.880302\",\n",
    "        \"2025-01-26 15:36:19.880686\",\n",
    "        \"2025-01-26 15:36:19.880791\",\n",
    "        \"2025-01-26 15:36:19.880872\",\n",
    "        \"2025-01-26 15:36:19.880947\",\n",
    "        \"2025-01-26 15:36:19.881030\",\n",
    "        \"2025-01-26 15:36:19.881106\",\n",
    "        \"2025-01-26 15:36:19.881179\",\n",
    "        \"2025-01-26 15:36:19.881288\",\n",
    "        \"2025-01-26 15:36:19.881381\",\n",
    "    ],\n",
    "    \"Temperature\": [\n",
    "        37.448019359758725,\n",
    "        36.55113168092435,\n",
    "        39.960331577182224,\n",
    "        35.27576724919126,\n",
    "        36.431665945230215,\n",
    "        39.83317895095812,\n",
    "        36.7614112059241,\n",
    "        38.73903536889354,\n",
    "        35.1212401581978,\n",
    "        35.911808779094734,\n",
    "    ],\n",
    "    \"Moisture\": [\n",
    "        42.56420788806833,\n",
    "        39.0938031314282,\n",
    "        17.688072988907177,\n",
    "        57.61316107794047,\n",
    "        40.45428780319771,\n",
    "        11.469823784936391,\n",
    "        33.150169544313094,\n",
    "        20.314070455983696,\n",
    "        65.03201425787528,\n",
    "        50.09846667385073,\n",
    "    ],\n",
    "    \"Water_Content\": [\n",
    "        57.09519357068937,\n",
    "        55.0589017209392,\n",
    "        23.454573754654337,\n",
    "        61.93531588362247,\n",
    "        58.27967325743154,\n",
    "        24.93848251004362,\n",
    "        49.35336596580625,\n",
    "        36.85348865259063,\n",
    "        76.32503367007183,\n",
    "        61.95523086380585,\n",
    "    ],\n",
    "    \"SpO2\": [\n",
    "        90.83170716027566,\n",
    "        94.03622101913521,\n",
    "        82.81685532148833,\n",
    "        99.5673519759851,\n",
    "        90.52837718064711,\n",
    "        80.36215954970702,\n",
    "        91.76107125147107,\n",
    "        82.57934264809823,\n",
    "        95.53706058963472,\n",
    "        99.89370379497696,\n",
    "    ],\n",
    "    \"Fatigue\": [\n",
    "        45.0518749069516,\n",
    "        63.29676145438248,\n",
    "        84.72875285481501,\n",
    "        19.237833558594502,\n",
    "        52.43043321802156,\n",
    "        94.69959782044042,\n",
    "        53.03885894986844,\n",
    "        81.45319882475768,\n",
    "        31.02373622644415,\n",
    "        15.341721781946449,\n",
    "    ],\n",
    "    \"Drowsiness\": [\n",
    "        47.387886875025146,\n",
    "        34.84353162511356,\n",
    "        89.8256501414069,\n",
    "        26.18278236445019,\n",
    "        46.12044436003424,\n",
    "        81.29019836534223,\n",
    "        54.61491499955926,\n",
    "        89.71582996078122,\n",
    "        21.33491160150549,\n",
    "        12.89016438003876,\n",
    "    ],\n",
    "    \"Stress\": [\n",
    "        32.45078097805382,\n",
    "        45.65658629139096,\n",
    "        98.9954187122699,\n",
    "        13.934684709270357,\n",
    "        45.48335816304045,\n",
    "        86.4486021517516,\n",
    "        34.98242144605149,\n",
    "        77.78322491281463,\n",
    "        27.459439032279775,\n",
    "        27.47415175644288,\n",
    "    ],\n",
    "    \"Heart_Rate\": [\n",
    "        98.67888124949874,\n",
    "        90.65445102827275,\n",
    "        115.04876178835602,\n",
    "        60.84586650748115,\n",
    "        91.44316814717094,\n",
    "        122.80140854933657,\n",
    "        94.1981196914343,\n",
    "        115.62081753302822,\n",
    "        79.29264396251105,\n",
    "        75.5036735308056,\n",
    "    ],\n",
    "    \"Respiration_Rate\": [\n",
    "        24.90624758267431,\n",
    "        22.905683005007393,\n",
    "        34.59183284133144,\n",
    "        16.81292992972374,\n",
    "        21.290915564703873,\n",
    "        27.062843902030057,\n",
    "        22.810069248529683,\n",
    "        33.13968625079214,\n",
    "        14.638286021824017,\n",
    "        12.816054423725348,\n",
    "    ],\n",
    "    \"Systolic_BP\": [122, 128, 137, 119, 129, 131, 125, 131, 114, 111],\n",
    "    \"Diastolic_BP\": [75, 84, 85, 76, 75, 89, 84, 85, 75, 70],\n",
    "}"
   ]
  },
  {
   "cell_type": "code",
   "execution_count": 123,
   "metadata": {},
   "outputs": [
    {
     "name": "stdout",
     "output_type": "stream",
     "text": [
      "\u001b[1m1/1\u001b[0m \u001b[32m━━━━━━━━━━━━━━━━━━━━\u001b[0m\u001b[37m\u001b[0m \u001b[1m0s\u001b[0m 189ms/step\n",
      "\u001b[1m1/1\u001b[0m \u001b[32m━━━━━━━━━━━━━━━━━━━━\u001b[0m\u001b[37m\u001b[0m \u001b[1m0s\u001b[0m 24ms/step\n",
      "\u001b[1m1/1\u001b[0m \u001b[32m━━━━━━━━━━━━━━━━━━━━\u001b[0m\u001b[37m\u001b[0m \u001b[1m0s\u001b[0m 23ms/step\n",
      "\u001b[1m1/1\u001b[0m \u001b[32m━━━━━━━━━━━━━━━━━━━━\u001b[0m\u001b[37m\u001b[0m \u001b[1m0s\u001b[0m 24ms/step\n",
      "\u001b[1m1/1\u001b[0m \u001b[32m━━━━━━━━━━━━━━━━━━━━\u001b[0m\u001b[37m\u001b[0m \u001b[1m0s\u001b[0m 29ms/step\n",
      "\u001b[1m1/1\u001b[0m \u001b[32m━━━━━━━━━━━━━━━━━━━━\u001b[0m\u001b[37m\u001b[0m \u001b[1m0s\u001b[0m 23ms/step\n",
      "\u001b[1m1/1\u001b[0m \u001b[32m━━━━━━━━━━━━━━━━━━━━\u001b[0m\u001b[37m\u001b[0m \u001b[1m0s\u001b[0m 28ms/step\n",
      "\u001b[1m1/1\u001b[0m \u001b[32m━━━━━━━━━━━━━━━━━━━━\u001b[0m\u001b[37m\u001b[0m \u001b[1m0s\u001b[0m 24ms/step\n",
      "\u001b[1m1/1\u001b[0m \u001b[32m━━━━━━━━━━━━━━━━━━━━\u001b[0m\u001b[37m\u001b[0m \u001b[1m0s\u001b[0m 26ms/step\n",
      "\u001b[1m1/1\u001b[0m \u001b[32m━━━━━━━━━━━━━━━━━━━━\u001b[0m\u001b[37m\u001b[0m \u001b[1m0s\u001b[0m 31ms/step\n"
     ]
    }
   ],
   "source": [
    "Results = []\n",
    "Temperature = msg[\"Temperature\"]\n",
    "Moisture = msg[\"Moisture\"]\n",
    "Water_Content = msg[\"Water_Content\"]\n",
    "SpO2 = msg[\"SpO2\"]\n",
    "Fatigue = msg[\"Fatigue\"]\n",
    "Drowsiness = msg[\"Drowsiness\"]\n",
    "Stress = msg[\"Stress\"]\n",
    "Heart_Rate = msg[\"Heart_Rate\"]\n",
    "Respiration_Rate = msg[\"Respiration_Rate\"]\n",
    "Systolic_BP = msg[\"Systolic_BP\"]\n",
    "Diastolic_BP = msg[\"Diastolic_BP\"]\n",
    "if model:\n",
    "    for x in range(0, len(Temperature)):\n",
    "        input_data = np.array([\n",
    "            Temperature[x],\n",
    "            Moisture[x],\n",
    "            Water_Content[x],\n",
    "            SpO2[x],\n",
    "            Fatigue[x],\n",
    "            Drowsiness[x],\n",
    "            Stress[x],\n",
    "            Heart_Rate[x],\n",
    "            Respiration_Rate[x],\n",
    "            Systolic_BP[x],\n",
    "            Diastolic_BP[x],\n",
    "        ]).reshape(1,-1)\n",
    "\n",
    "        # Scale input data using pre-fitted scaler\n",
    "\n",
    "        # Perform prediction\n",
    "        efficiency_score = model.predict(input_data).flatten()[0]\n",
    "        Results.append(efficiency_score)"
   ]
  },
  {
   "cell_type": "code",
   "execution_count": 124,
   "metadata": {},
   "outputs": [
    {
     "data": {
      "text/plain": [
       "[0.1515995,\n",
       " 0.1366562,\n",
       " 0.03675267,\n",
       " 0.49305674,\n",
       " 0.14055601,\n",
       " 0.040814012,\n",
       " 0.13652185,\n",
       " 0.05255243,\n",
       " 0.46093753,\n",
       " 0.49366638]"
      ]
     },
     "execution_count": 124,
     "metadata": {},
     "output_type": "execute_result"
    }
   ],
   "source": [
    "Results"
   ]
  },
  {
   "cell_type": "code",
   "execution_count": null,
   "metadata": {},
   "outputs": [],
   "source": []
  }
 ],
 "metadata": {
  "kernelspec": {
   "display_name": "myenv",
   "language": "python",
   "name": "python3"
  },
  "language_info": {
   "codemirror_mode": {
    "name": "ipython",
    "version": 3
   },
   "file_extension": ".py",
   "mimetype": "text/x-python",
   "name": "python",
   "nbconvert_exporter": "python",
   "pygments_lexer": "ipython3",
   "version": "3.11.8"
  }
 },
 "nbformat": 4,
 "nbformat_minor": 2
}
