{
 "cells": [
  {
   "cell_type": "code",
   "execution_count": 1,
   "metadata": {},
   "outputs": [
    {
     "name": "stderr",
     "output_type": "stream",
     "text": [
      "2025-01-27 09:39:31.785423: I tensorflow/core/util/port.cc:153] oneDNN custom operations are on. You may see slightly different numerical results due to floating-point round-off errors from different computation orders. To turn them off, set the environment variable `TF_ENABLE_ONEDNN_OPTS=0`.\n",
      "2025-01-27 09:39:32.082764: E external/local_xla/xla/stream_executor/cuda/cuda_fft.cc:477] Unable to register cuFFT factory: Attempting to register factory for plugin cuFFT when one has already been registered\n",
      "WARNING: All log messages before absl::InitializeLog() is called are written to STDERR\n",
      "E0000 00:00:1737970772.184951    5174 cuda_dnn.cc:8310] Unable to register cuDNN factory: Attempting to register factory for plugin cuDNN when one has already been registered\n",
      "E0000 00:00:1737970772.214421    5174 cuda_blas.cc:1418] Unable to register cuBLAS factory: Attempting to register factory for plugin cuBLAS when one has already been registered\n",
      "2025-01-27 09:39:32.446754: I tensorflow/core/platform/cpu_feature_guard.cc:210] This TensorFlow binary is optimized to use available CPU instructions in performance-critical operations.\n",
      "To enable the following instructions: AVX2 AVX_VNNI FMA, in other operations, rebuild TensorFlow with the appropriate compiler flags.\n"
     ]
    }
   ],
   "source": [
    "import tensorflow as tf\n",
    "from tensorflow.keras import regularizers, layers\n",
    "from tensorflow.keras.models import Sequential\n",
    "from tensorflow.keras.optimizers import Adam\n",
    "from sklearn.model_selection import train_test_split\n",
    "from sklearn.preprocessing import StandardScaler\n",
    "import pandas as pd\n",
    "import numpy as np"
   ]
  },
  {
   "cell_type": "code",
   "execution_count": 2,
   "metadata": {},
   "outputs": [],
   "source": [
    "gpu_devices = tf.config.experimental.list_physical_devices(\"GPU\")\n",
    "for device in gpu_devices:\n",
    "    tf.config.experimental.set_memory_growth(device, True)"
   ]
  },
  {
   "cell_type": "code",
   "execution_count": 3,
   "metadata": {},
   "outputs": [],
   "source": [
    "# %% Load Data\n",
    "data = pd.read_csv(\"balanced_soldier_data.csv\")"
   ]
  },
  {
   "cell_type": "code",
   "execution_count": 4,
   "metadata": {},
   "outputs": [
    {
     "name": "stdout",
     "output_type": "stream",
     "text": [
      "<class 'pandas.core.frame.DataFrame'>\n",
      "RangeIndex: 5100 entries, 0 to 5099\n",
      "Data columns (total 12 columns):\n",
      " #   Column            Non-Null Count  Dtype  \n",
      "---  ------            --------------  -----  \n",
      " 0   Temperature       5100 non-null   float64\n",
      " 1   Moisture          5100 non-null   float64\n",
      " 2   Water_Content     5100 non-null   float64\n",
      " 3   SpO2              5100 non-null   float64\n",
      " 4   Fatigue           5100 non-null   float64\n",
      " 5   Drowsiness        5100 non-null   float64\n",
      " 6   Stress            5100 non-null   float64\n",
      " 7   Heart_Rate        5100 non-null   float64\n",
      " 8   Respiration_Rate  5100 non-null   float64\n",
      " 9   Systolic_BP       5100 non-null   int64  \n",
      " 10  Diastolic_BP      5100 non-null   int64  \n",
      " 11  Efficiency        5100 non-null   float64\n",
      "dtypes: float64(10), int64(2)\n",
      "memory usage: 478.3 KB\n",
      "None\n",
      "       Temperature     Moisture  Water_Content         SpO2      Fatigue  \\\n",
      "count  5100.000000  5100.000000    5100.000000  5100.000000  5100.000000   \n",
      "mean     36.824245    49.948598      64.991819    92.859258     0.499050   \n",
      "std       0.934099    10.009224      14.101622     4.546201     0.298965   \n",
      "min      35.000821    30.000233      40.000614    85.007142     0.000028   \n",
      "25%      36.164451    42.517555      53.111243    88.772447     0.228199   \n",
      "50%      36.740552    49.930312      64.844995    93.098638     0.498608   \n",
      "75%      37.496321    57.618619      77.085730    96.984919     0.770033   \n",
      "max      38.999084    69.950300      89.988570    99.995938     0.999671   \n",
      "\n",
      "        Drowsiness       Stress   Heart_Rate  Respiration_Rate  Systolic_BP  \\\n",
      "count  5100.000000  5100.000000  5100.000000       5100.000000  5100.000000   \n",
      "mean      0.484388     0.501219    98.334870         20.473373   123.654314   \n",
      "std       0.284795     0.302218    22.242554          4.520458     9.026725   \n",
      "min       0.000382     0.000367    60.021824         12.002567   110.000000   \n",
      "25%       0.227506     0.223470    81.277553         16.986269   116.000000   \n",
      "50%       0.510264     0.500100    95.260068         20.228664   122.000000   \n",
      "75%       0.701917     0.777690   117.115688         23.827589   132.000000   \n",
      "max       0.999802     0.999902   139.965345         29.998051   139.000000   \n",
      "\n",
      "       Diastolic_BP   Efficiency  \n",
      "count   5100.000000  5100.000000  \n",
      "mean      80.334706     0.461373  \n",
      "std        5.695166     0.228141  \n",
      "min       70.000000     0.100000  \n",
      "25%       76.000000     0.217893  \n",
      "50%       80.000000     0.445245  \n",
      "75%       86.000000     0.713280  \n",
      "max       89.000000     0.900000  \n"
     ]
    }
   ],
   "source": [
    "print(data.info())  # Check for NaNs and types\n",
    "print(data.describe())  # Feature distributions"
   ]
  },
  {
   "cell_type": "code",
   "execution_count": 5,
   "metadata": {},
   "outputs": [],
   "source": [
    "X = data.drop(columns=[\"Efficiency\"])\n",
    "y = data[\"Efficiency\"]"
   ]
  },
  {
   "cell_type": "code",
   "execution_count": 6,
   "metadata": {},
   "outputs": [],
   "source": [
    "scaler = StandardScaler()\n",
    "X_scaled = scaler.fit_transform(X)"
   ]
  },
  {
   "cell_type": "code",
   "execution_count": 7,
   "metadata": {},
   "outputs": [],
   "source": [
    "# Split into train/test sets\n",
    "X_train, X_test, y_train, y_test = train_test_split(\n",
    "    X, y, test_size=0.2, random_state=42\n",
    ")"
   ]
  },
  {
   "cell_type": "code",
   "execution_count": 8,
   "metadata": {},
   "outputs": [],
   "source": [
    "# %% Build Model\n",
    "def build_model(input_shape):\n",
    "    model = Sequential(\n",
    "        [\n",
    "            layers.Input(shape=(input_shape,)),\n",
    "            layers.Dense(\n",
    "                128, activation=\"relu\", kernel_regularizer=regularizers.l2(0.01)\n",
    "            ),\n",
    "            layers.BatchNormalization(),\n",
    "            layers.Dropout(0.2),\n",
    "            layers.Dense(\n",
    "                256, activation=\"relu\", kernel_regularizer=regularizers.l2(0.01)\n",
    "            ),\n",
    "            layers.BatchNormalization(),\n",
    "            layers.Dropout(0.3),\n",
    "            layers.Dense(128, activation=\"relu\"),\n",
    "            layers.Dense(64, activation=\"relu\"),\n",
    "            layers.Dense(32, activation=\"relu\"),\n",
    "            layers.Dense(1, activation=\"linear\"),\n",
    "        ]\n",
    "    )\n",
    "    return model"
   ]
  },
  {
   "cell_type": "code",
   "execution_count": 9,
   "metadata": {},
   "outputs": [
    {
     "name": "stderr",
     "output_type": "stream",
     "text": [
      "I0000 00:00:1737970777.971299    5174 gpu_device.cc:2022] Created device /job:localhost/replica:0/task:0/device:GPU:0 with 5563 MB memory:  -> device: 0, name: NVIDIA GeForce RTX 4060 Laptop GPU, pci bus id: 0000:01:00.0, compute capability: 8.9\n"
     ]
    }
   ],
   "source": [
    "model = build_model(X_train.shape[1])"
   ]
  },
  {
   "cell_type": "code",
   "execution_count": 19,
   "metadata": {},
   "outputs": [
    {
     "data": {
      "text/html": [
       "<pre style=\"white-space:pre;overflow-x:auto;line-height:normal;font-family:Menlo,'DejaVu Sans Mono',consolas,'Courier New',monospace\"><span style=\"font-weight: bold\">Model: \"sequential\"</span>\n",
       "</pre>\n"
      ],
      "text/plain": [
       "\u001b[1mModel: \"sequential\"\u001b[0m\n"
      ]
     },
     "metadata": {},
     "output_type": "display_data"
    },
    {
     "data": {
      "text/html": [
       "<pre style=\"white-space:pre;overflow-x:auto;line-height:normal;font-family:Menlo,'DejaVu Sans Mono',consolas,'Courier New',monospace\">┏━━━━━━━━━━━━━━━━━━━━━━━━━━━━━━━━━┳━━━━━━━━━━━━━━━━━━━━━━━━┳━━━━━━━━━━━━━━━┓\n",
       "┃<span style=\"font-weight: bold\"> Layer (type)                    </span>┃<span style=\"font-weight: bold\"> Output Shape           </span>┃<span style=\"font-weight: bold\">       Param # </span>┃\n",
       "┡━━━━━━━━━━━━━━━━━━━━━━━━━━━━━━━━━╇━━━━━━━━━━━━━━━━━━━━━━━━╇━━━━━━━━━━━━━━━┩\n",
       "│ dense (<span style=\"color: #0087ff; text-decoration-color: #0087ff\">Dense</span>)                   │ (<span style=\"color: #00d7ff; text-decoration-color: #00d7ff\">None</span>, <span style=\"color: #00af00; text-decoration-color: #00af00\">128</span>)            │         <span style=\"color: #00af00; text-decoration-color: #00af00\">1,536</span> │\n",
       "├─────────────────────────────────┼────────────────────────┼───────────────┤\n",
       "│ batch_normalization             │ (<span style=\"color: #00d7ff; text-decoration-color: #00d7ff\">None</span>, <span style=\"color: #00af00; text-decoration-color: #00af00\">128</span>)            │           <span style=\"color: #00af00; text-decoration-color: #00af00\">512</span> │\n",
       "│ (<span style=\"color: #0087ff; text-decoration-color: #0087ff\">BatchNormalization</span>)            │                        │               │\n",
       "├─────────────────────────────────┼────────────────────────┼───────────────┤\n",
       "│ dropout (<span style=\"color: #0087ff; text-decoration-color: #0087ff\">Dropout</span>)               │ (<span style=\"color: #00d7ff; text-decoration-color: #00d7ff\">None</span>, <span style=\"color: #00af00; text-decoration-color: #00af00\">128</span>)            │             <span style=\"color: #00af00; text-decoration-color: #00af00\">0</span> │\n",
       "├─────────────────────────────────┼────────────────────────┼───────────────┤\n",
       "│ dense_1 (<span style=\"color: #0087ff; text-decoration-color: #0087ff\">Dense</span>)                 │ (<span style=\"color: #00d7ff; text-decoration-color: #00d7ff\">None</span>, <span style=\"color: #00af00; text-decoration-color: #00af00\">256</span>)            │        <span style=\"color: #00af00; text-decoration-color: #00af00\">33,024</span> │\n",
       "├─────────────────────────────────┼────────────────────────┼───────────────┤\n",
       "│ batch_normalization_1           │ (<span style=\"color: #00d7ff; text-decoration-color: #00d7ff\">None</span>, <span style=\"color: #00af00; text-decoration-color: #00af00\">256</span>)            │         <span style=\"color: #00af00; text-decoration-color: #00af00\">1,024</span> │\n",
       "│ (<span style=\"color: #0087ff; text-decoration-color: #0087ff\">BatchNormalization</span>)            │                        │               │\n",
       "├─────────────────────────────────┼────────────────────────┼───────────────┤\n",
       "│ dropout_1 (<span style=\"color: #0087ff; text-decoration-color: #0087ff\">Dropout</span>)             │ (<span style=\"color: #00d7ff; text-decoration-color: #00d7ff\">None</span>, <span style=\"color: #00af00; text-decoration-color: #00af00\">256</span>)            │             <span style=\"color: #00af00; text-decoration-color: #00af00\">0</span> │\n",
       "├─────────────────────────────────┼────────────────────────┼───────────────┤\n",
       "│ dense_2 (<span style=\"color: #0087ff; text-decoration-color: #0087ff\">Dense</span>)                 │ (<span style=\"color: #00d7ff; text-decoration-color: #00d7ff\">None</span>, <span style=\"color: #00af00; text-decoration-color: #00af00\">128</span>)            │        <span style=\"color: #00af00; text-decoration-color: #00af00\">32,896</span> │\n",
       "├─────────────────────────────────┼────────────────────────┼───────────────┤\n",
       "│ dense_3 (<span style=\"color: #0087ff; text-decoration-color: #0087ff\">Dense</span>)                 │ (<span style=\"color: #00d7ff; text-decoration-color: #00d7ff\">None</span>, <span style=\"color: #00af00; text-decoration-color: #00af00\">64</span>)             │         <span style=\"color: #00af00; text-decoration-color: #00af00\">8,256</span> │\n",
       "├─────────────────────────────────┼────────────────────────┼───────────────┤\n",
       "│ dense_4 (<span style=\"color: #0087ff; text-decoration-color: #0087ff\">Dense</span>)                 │ (<span style=\"color: #00d7ff; text-decoration-color: #00d7ff\">None</span>, <span style=\"color: #00af00; text-decoration-color: #00af00\">32</span>)             │         <span style=\"color: #00af00; text-decoration-color: #00af00\">2,080</span> │\n",
       "├─────────────────────────────────┼────────────────────────┼───────────────┤\n",
       "│ dense_5 (<span style=\"color: #0087ff; text-decoration-color: #0087ff\">Dense</span>)                 │ (<span style=\"color: #00d7ff; text-decoration-color: #00d7ff\">None</span>, <span style=\"color: #00af00; text-decoration-color: #00af00\">1</span>)              │            <span style=\"color: #00af00; text-decoration-color: #00af00\">33</span> │\n",
       "└─────────────────────────────────┴────────────────────────┴───────────────┘\n",
       "</pre>\n"
      ],
      "text/plain": [
       "┏━━━━━━━━━━━━━━━━━━━━━━━━━━━━━━━━━┳━━━━━━━━━━━━━━━━━━━━━━━━┳━━━━━━━━━━━━━━━┓\n",
       "┃\u001b[1m \u001b[0m\u001b[1mLayer (type)                   \u001b[0m\u001b[1m \u001b[0m┃\u001b[1m \u001b[0m\u001b[1mOutput Shape          \u001b[0m\u001b[1m \u001b[0m┃\u001b[1m \u001b[0m\u001b[1m      Param #\u001b[0m\u001b[1m \u001b[0m┃\n",
       "┡━━━━━━━━━━━━━━━━━━━━━━━━━━━━━━━━━╇━━━━━━━━━━━━━━━━━━━━━━━━╇━━━━━━━━━━━━━━━┩\n",
       "│ dense (\u001b[38;5;33mDense\u001b[0m)                   │ (\u001b[38;5;45mNone\u001b[0m, \u001b[38;5;34m128\u001b[0m)            │         \u001b[38;5;34m1,536\u001b[0m │\n",
       "├─────────────────────────────────┼────────────────────────┼───────────────┤\n",
       "│ batch_normalization             │ (\u001b[38;5;45mNone\u001b[0m, \u001b[38;5;34m128\u001b[0m)            │           \u001b[38;5;34m512\u001b[0m │\n",
       "│ (\u001b[38;5;33mBatchNormalization\u001b[0m)            │                        │               │\n",
       "├─────────────────────────────────┼────────────────────────┼───────────────┤\n",
       "│ dropout (\u001b[38;5;33mDropout\u001b[0m)               │ (\u001b[38;5;45mNone\u001b[0m, \u001b[38;5;34m128\u001b[0m)            │             \u001b[38;5;34m0\u001b[0m │\n",
       "├─────────────────────────────────┼────────────────────────┼───────────────┤\n",
       "│ dense_1 (\u001b[38;5;33mDense\u001b[0m)                 │ (\u001b[38;5;45mNone\u001b[0m, \u001b[38;5;34m256\u001b[0m)            │        \u001b[38;5;34m33,024\u001b[0m │\n",
       "├─────────────────────────────────┼────────────────────────┼───────────────┤\n",
       "│ batch_normalization_1           │ (\u001b[38;5;45mNone\u001b[0m, \u001b[38;5;34m256\u001b[0m)            │         \u001b[38;5;34m1,024\u001b[0m │\n",
       "│ (\u001b[38;5;33mBatchNormalization\u001b[0m)            │                        │               │\n",
       "├─────────────────────────────────┼────────────────────────┼───────────────┤\n",
       "│ dropout_1 (\u001b[38;5;33mDropout\u001b[0m)             │ (\u001b[38;5;45mNone\u001b[0m, \u001b[38;5;34m256\u001b[0m)            │             \u001b[38;5;34m0\u001b[0m │\n",
       "├─────────────────────────────────┼────────────────────────┼───────────────┤\n",
       "│ dense_2 (\u001b[38;5;33mDense\u001b[0m)                 │ (\u001b[38;5;45mNone\u001b[0m, \u001b[38;5;34m128\u001b[0m)            │        \u001b[38;5;34m32,896\u001b[0m │\n",
       "├─────────────────────────────────┼────────────────────────┼───────────────┤\n",
       "│ dense_3 (\u001b[38;5;33mDense\u001b[0m)                 │ (\u001b[38;5;45mNone\u001b[0m, \u001b[38;5;34m64\u001b[0m)             │         \u001b[38;5;34m8,256\u001b[0m │\n",
       "├─────────────────────────────────┼────────────────────────┼───────────────┤\n",
       "│ dense_4 (\u001b[38;5;33mDense\u001b[0m)                 │ (\u001b[38;5;45mNone\u001b[0m, \u001b[38;5;34m32\u001b[0m)             │         \u001b[38;5;34m2,080\u001b[0m │\n",
       "├─────────────────────────────────┼────────────────────────┼───────────────┤\n",
       "│ dense_5 (\u001b[38;5;33mDense\u001b[0m)                 │ (\u001b[38;5;45mNone\u001b[0m, \u001b[38;5;34m1\u001b[0m)              │            \u001b[38;5;34m33\u001b[0m │\n",
       "└─────────────────────────────────┴────────────────────────┴───────────────┘\n"
      ]
     },
     "metadata": {},
     "output_type": "display_data"
    },
    {
     "data": {
      "text/html": [
       "<pre style=\"white-space:pre;overflow-x:auto;line-height:normal;font-family:Menlo,'DejaVu Sans Mono',consolas,'Courier New',monospace\"><span style=\"font-weight: bold\"> Total params: </span><span style=\"color: #00af00; text-decoration-color: #00af00\">79,361</span> (310.00 KB)\n",
       "</pre>\n"
      ],
      "text/plain": [
       "\u001b[1m Total params: \u001b[0m\u001b[38;5;34m79,361\u001b[0m (310.00 KB)\n"
      ]
     },
     "metadata": {},
     "output_type": "display_data"
    },
    {
     "data": {
      "text/html": [
       "<pre style=\"white-space:pre;overflow-x:auto;line-height:normal;font-family:Menlo,'DejaVu Sans Mono',consolas,'Courier New',monospace\"><span style=\"font-weight: bold\"> Trainable params: </span><span style=\"color: #00af00; text-decoration-color: #00af00\">78,593</span> (307.00 KB)\n",
       "</pre>\n"
      ],
      "text/plain": [
       "\u001b[1m Trainable params: \u001b[0m\u001b[38;5;34m78,593\u001b[0m (307.00 KB)\n"
      ]
     },
     "metadata": {},
     "output_type": "display_data"
    },
    {
     "data": {
      "text/html": [
       "<pre style=\"white-space:pre;overflow-x:auto;line-height:normal;font-family:Menlo,'DejaVu Sans Mono',consolas,'Courier New',monospace\"><span style=\"font-weight: bold\"> Non-trainable params: </span><span style=\"color: #00af00; text-decoration-color: #00af00\">768</span> (3.00 KB)\n",
       "</pre>\n"
      ],
      "text/plain": [
       "\u001b[1m Non-trainable params: \u001b[0m\u001b[38;5;34m768\u001b[0m (3.00 KB)\n"
      ]
     },
     "metadata": {},
     "output_type": "display_data"
    }
   ],
   "source": [
    "model.summary()"
   ]
  },
  {
   "cell_type": "code",
   "execution_count": 10,
   "metadata": {},
   "outputs": [],
   "source": [
    "# Compile model\n",
    "optimizer = Adam(learning_rate=0.001)\n",
    "model.compile(optimizer=optimizer, loss=\"mean_squared_error\", metrics=[\"mae\"])"
   ]
  },
  {
   "cell_type": "code",
   "execution_count": 11,
   "metadata": {},
   "outputs": [],
   "source": [
    "# %% Train Model (Uncomment this to train)\n",
    "# history = model.fit(\n",
    "#     X_train,\n",
    "#     y_train,\n",
    "#     epochs=100,\n",
    "#     batch_size=32,\n",
    "#     validation_data=(X_test, y_test),\n",
    "#     callbacks=[\n",
    "#         tf.keras.callbacks.EarlyStopping(\n",
    "#             monitor=\"val_loss\", patience=10, restore_best_weights=True\n",
    "#         )\n",
    "#     ],\n",
    "# )"
   ]
  },
  {
   "cell_type": "code",
   "execution_count": 12,
   "metadata": {},
   "outputs": [
    {
     "name": "stderr",
     "output_type": "stream",
     "text": [
      "WARNING: All log messages before absl::InitializeLog() is called are written to STDERR\n",
      "I0000 00:00:1737970779.106167    5389 service.cc:148] XLA service 0x7f94780083e0 initialized for platform CUDA (this does not guarantee that XLA will be used). Devices:\n",
      "I0000 00:00:1737970779.106581    5389 service.cc:156]   StreamExecutor device (0): NVIDIA GeForce RTX 4060 Laptop GPU, Compute Capability 8.9\n",
      "2025-01-27 09:39:39.128089: I tensorflow/compiler/mlir/tensorflow/utils/dump_mlir_util.cc:268] disabling MLIR crash reproducer, set env var `MLIR_CRASH_REPRODUCER_DIRECTORY` to enable.\n",
      "I0000 00:00:1737970779.183813    5389 cuda_dnn.cc:529] Loaded cuDNN version 90300\n"
     ]
    },
    {
     "name": "stdout",
     "output_type": "stream",
     "text": [
      "\u001b[1m31/32\u001b[0m \u001b[32m━━━━━━━━━━━━━━━━━━━\u001b[0m\u001b[37m━\u001b[0m \u001b[1m0s\u001b[0m 3ms/step - loss: 6.3822 - mae: 1.8530"
     ]
    },
    {
     "name": "stderr",
     "output_type": "stream",
     "text": [
      "I0000 00:00:1737970780.109887    5389 device_compiler.h:188] Compiled cluster using XLA!  This line is logged at most once for the lifetime of the process.\n"
     ]
    },
    {
     "name": "stdout",
     "output_type": "stream",
     "text": [
      "\u001b[1m32/32\u001b[0m \u001b[32m━━━━━━━━━━━━━━━━━━━━\u001b[0m\u001b[37m\u001b[0m \u001b[1m2s\u001b[0m 25ms/step - loss: 6.3796 - mae: 1.8524\n",
      "Test Loss: 6.3405, Test MAE: 1.8421\n"
     ]
    }
   ],
   "source": [
    "# %% Evaluate Model\n",
    "test_loss, test_mae = model.evaluate(X_test, y_test)\n",
    "print(f\"Test Loss: {test_loss:.4f}, Test MAE: {test_mae:.4f}\")"
   ]
  },
  {
   "cell_type": "code",
   "execution_count": 13,
   "metadata": {},
   "outputs": [],
   "source": [
    "# # %% Anomaly Detection\n",
    "# def predict_anomaly(model, scaler, sample_input):\n",
    "#     efficiency_score = model.predict(sample_input).flatten()[0]\n",
    "\n",
    "#     print(f\"Predicted Efficiency Score: {efficiency_score:.2f}\")\n",
    "#     if efficiency_score <= 0.3:\n",
    "#         print(\"🚨 ALERT: Soldier in danger! Triggering rescue signal! 🚨\")\n",
    "#     else:\n",
    "#         print(\"✅ Soldier efficiency is normal.\")"
   ]
  },
  {
   "cell_type": "code",
   "execution_count": 14,
   "metadata": {},
   "outputs": [],
   "source": [
    "# %% Save Model\n",
    "# model.save(\"TrainedModel/SHMS_Efficiency_Model.keras\")"
   ]
  },
  {
   "cell_type": "code",
   "execution_count": 15,
   "metadata": {},
   "outputs": [],
   "source": [
    "# import joblib\n",
    "\n",
    "# # Save the fitted scaler\n",
    "# joblib.dump(scaler, \"TrainedModel/scaler.pkl\")\n",
    "# print(\"Scaler saved successfully.\")"
   ]
  },
  {
   "cell_type": "code",
   "execution_count": 16,
   "metadata": {},
   "outputs": [],
   "source": [
    "msg = {\n",
    "    \"Timestamp\": [\n",
    "        \"2025-01-26 15:36:19.880302\",\n",
    "        \"2025-01-26 15:36:19.880686\",\n",
    "        \"2025-01-26 15:36:19.880791\",\n",
    "        \"2025-01-26 15:36:19.880872\",\n",
    "        \"2025-01-26 15:36:19.880947\",\n",
    "        \"2025-01-26 15:36:19.881030\",\n",
    "        \"2025-01-26 15:36:19.881106\",\n",
    "        \"2025-01-26 15:36:19.881179\",\n",
    "        \"2025-01-26 15:36:19.881288\",\n",
    "        \"2025-01-26 15:36:19.881381\",\n",
    "    ],\n",
    "    \"Temperature\": [\n",
    "        37.448019359758725,\n",
    "        36.55113168092435,\n",
    "        39.960331577182224,\n",
    "        35.27576724919126,\n",
    "        36.431665945230215,\n",
    "        39.83317895095812,\n",
    "        36.7614112059241,\n",
    "        38.73903536889354,\n",
    "        35.1212401581978,\n",
    "        35.911808779094734,\n",
    "    ],\n",
    "    \"Moisture\": [\n",
    "        42.56420788806833,\n",
    "        39.0938031314282,\n",
    "        17.688072988907177,\n",
    "        57.61316107794047,\n",
    "        40.45428780319771,\n",
    "        11.469823784936391,\n",
    "        33.150169544313094,\n",
    "        20.314070455983696,\n",
    "        65.03201425787528,\n",
    "        50.09846667385073,\n",
    "    ],\n",
    "    \"Water_Content\": [\n",
    "        57.09519357068937,\n",
    "        55.0589017209392,\n",
    "        23.454573754654337,\n",
    "        61.93531588362247,\n",
    "        58.27967325743154,\n",
    "        24.93848251004362,\n",
    "        49.35336596580625,\n",
    "        36.85348865259063,\n",
    "        76.32503367007183,\n",
    "        61.95523086380585,\n",
    "    ],\n",
    "    \"SpO2\": [\n",
    "        90.83170716027566,\n",
    "        94.03622101913521,\n",
    "        82.81685532148833,\n",
    "        99.5673519759851,\n",
    "        90.52837718064711,\n",
    "        80.36215954970702,\n",
    "        91.76107125147107,\n",
    "        82.57934264809823,\n",
    "        95.53706058963472,\n",
    "        99.89370379497696,\n",
    "    ],\n",
    "    \"Fatigue\": [\n",
    "        45.0518749069516,\n",
    "        63.29676145438248,\n",
    "        84.72875285481501,\n",
    "        19.237833558594502,\n",
    "        52.43043321802156,\n",
    "        94.69959782044042,\n",
    "        53.03885894986844,\n",
    "        81.45319882475768,\n",
    "        31.02373622644415,\n",
    "        15.341721781946449,\n",
    "    ],\n",
    "    \"Drowsiness\": [\n",
    "        47.387886875025146,\n",
    "        34.84353162511356,\n",
    "        89.8256501414069,\n",
    "        26.18278236445019,\n",
    "        46.12044436003424,\n",
    "        81.29019836534223,\n",
    "        54.61491499955926,\n",
    "        89.71582996078122,\n",
    "        21.33491160150549,\n",
    "        12.89016438003876,\n",
    "    ],\n",
    "    \"Stress\": [\n",
    "        32.45078097805382,\n",
    "        45.65658629139096,\n",
    "        98.9954187122699,\n",
    "        13.934684709270357,\n",
    "        45.48335816304045,\n",
    "        86.4486021517516,\n",
    "        34.98242144605149,\n",
    "        77.78322491281463,\n",
    "        27.459439032279775,\n",
    "        27.47415175644288,\n",
    "    ],\n",
    "    \"Heart_Rate\": [\n",
    "        98.67888124949874,\n",
    "        90.65445102827275,\n",
    "        115.04876178835602,\n",
    "        60.84586650748115,\n",
    "        91.44316814717094,\n",
    "        122.80140854933657,\n",
    "        94.1981196914343,\n",
    "        115.62081753302822,\n",
    "        79.29264396251105,\n",
    "        75.5036735308056,\n",
    "    ],\n",
    "    \"Respiration_Rate\": [\n",
    "        24.90624758267431,\n",
    "        22.905683005007393,\n",
    "        34.59183284133144,\n",
    "        16.81292992972374,\n",
    "        21.290915564703873,\n",
    "        27.062843902030057,\n",
    "        22.810069248529683,\n",
    "        33.13968625079214,\n",
    "        14.638286021824017,\n",
    "        12.816054423725348,\n",
    "    ],\n",
    "    \"Systolic_BP\": [122, 128, 137, 119, 129, 131, 125, 131, 114, 111],\n",
    "    \"Diastolic_BP\": [75, 84, 85, 76, 75, 89, 84, 85, 75, 70],\n",
    "}"
   ]
  },
  {
   "cell_type": "code",
   "execution_count": 17,
   "metadata": {},
   "outputs": [
    {
     "name": "stdout",
     "output_type": "stream",
     "text": [
      "\u001b[1m1/1\u001b[0m \u001b[32m━━━━━━━━━━━━━━━━━━━━\u001b[0m\u001b[37m\u001b[0m \u001b[1m0s\u001b[0m 268ms/step\n",
      "\u001b[1m1/1\u001b[0m \u001b[32m━━━━━━━━━━━━━━━━━━━━\u001b[0m\u001b[37m\u001b[0m \u001b[1m0s\u001b[0m 26ms/step\n",
      "\u001b[1m1/1\u001b[0m \u001b[32m━━━━━━━━━━━━━━━━━━━━\u001b[0m\u001b[37m\u001b[0m \u001b[1m0s\u001b[0m 27ms/step\n",
      "\u001b[1m1/1\u001b[0m \u001b[32m━━━━━━━━━━━━━━━━━━━━\u001b[0m\u001b[37m\u001b[0m \u001b[1m0s\u001b[0m 28ms/step\n",
      "\u001b[1m1/1\u001b[0m \u001b[32m━━━━━━━━━━━━━━━━━━━━\u001b[0m\u001b[37m\u001b[0m \u001b[1m0s\u001b[0m 27ms/step\n",
      "\u001b[1m1/1\u001b[0m \u001b[32m━━━━━━━━━━━━━━━━━━━━\u001b[0m\u001b[37m\u001b[0m \u001b[1m0s\u001b[0m 28ms/step\n",
      "\u001b[1m1/1\u001b[0m \u001b[32m━━━━━━━━━━━━━━━━━━━━\u001b[0m\u001b[37m\u001b[0m \u001b[1m0s\u001b[0m 28ms/step\n",
      "\u001b[1m1/1\u001b[0m \u001b[32m━━━━━━━━━━━━━━━━━━━━\u001b[0m\u001b[37m\u001b[0m \u001b[1m0s\u001b[0m 28ms/step\n",
      "\u001b[1m1/1\u001b[0m \u001b[32m━━━━━━━━━━━━━━━━━━━━\u001b[0m\u001b[37m\u001b[0m \u001b[1m0s\u001b[0m 28ms/step\n",
      "\u001b[1m1/1\u001b[0m \u001b[32m━━━━━━━━━━━━━━━━━━━━\u001b[0m\u001b[37m\u001b[0m \u001b[1m0s\u001b[0m 30ms/step\n"
     ]
    }
   ],
   "source": [
    "Results = []\n",
    "Temperature = msg[\"Temperature\"]\n",
    "Moisture = msg[\"Moisture\"]\n",
    "Water_Content = msg[\"Water_Content\"]\n",
    "SpO2 = msg[\"SpO2\"]\n",
    "Fatigue = msg[\"Fatigue\"]\n",
    "Drowsiness = msg[\"Drowsiness\"]\n",
    "Stress = msg[\"Stress\"]\n",
    "Heart_Rate = msg[\"Heart_Rate\"]\n",
    "Respiration_Rate = msg[\"Respiration_Rate\"]\n",
    "Systolic_BP = msg[\"Systolic_BP\"]\n",
    "Diastolic_BP = msg[\"Diastolic_BP\"]\n",
    "if model:\n",
    "    for x in range(0, len(Temperature)):\n",
    "        input_data = np.array([\n",
    "            Temperature[x],\n",
    "            Moisture[x],\n",
    "            Water_Content[x],\n",
    "            SpO2[x],\n",
    "            Fatigue[x],\n",
    "            Drowsiness[x],\n",
    "            Stress[x],\n",
    "            Heart_Rate[x],\n",
    "            Respiration_Rate[x],\n",
    "            Systolic_BP[x],\n",
    "            Diastolic_BP[x],\n",
    "        ]).reshape(1,-1)\n",
    "\n",
    "        # Scale input data using pre-fitted scaler\n",
    "\n",
    "        # Perform prediction\n",
    "        efficiency_score = model.predict(input_data).flatten()[0]\n",
    "        Results.append(efficiency_score)"
   ]
  },
  {
   "cell_type": "code",
   "execution_count": 18,
   "metadata": {},
   "outputs": [
    {
     "data": {
      "text/plain": [
       "[2.8855686,\n",
       " 3.529185,\n",
       " 3.2032003,\n",
       " 1.5475178,\n",
       " 2.901136,\n",
       " 3.8419626,\n",
       " 3.1833763,\n",
       " 3.693666,\n",
       " 1.5080633,\n",
       " 1.8627253]"
      ]
     },
     "execution_count": 18,
     "metadata": {},
     "output_type": "execute_result"
    }
   ],
   "source": [
    "Results"
   ]
  },
  {
   "cell_type": "code",
   "execution_count": null,
   "metadata": {},
   "outputs": [],
   "source": []
  }
 ],
 "metadata": {
  "kernelspec": {
   "display_name": "myenv",
   "language": "python",
   "name": "python3"
  },
  "language_info": {
   "codemirror_mode": {
    "name": "ipython",
    "version": 3
   },
   "file_extension": ".py",
   "mimetype": "text/x-python",
   "name": "python",
   "nbconvert_exporter": "python",
   "pygments_lexer": "ipython3",
   "version": "3.11.8"
  }
 },
 "nbformat": 4,
 "nbformat_minor": 2
}
